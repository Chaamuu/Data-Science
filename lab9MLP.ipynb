{
  "nbformat": 4,
  "nbformat_minor": 0,
  "metadata": {
    "colab": {
      "provenance": [],
      "name": "lab9MLP.ipynb"
    },
    "kernelspec": {
      "name": "python3",
      "display_name": "Python 3"
    },
    "language_info": {
      "name": "python"
    }
  },
  "cells": [
    {
      "cell_type": "code",
      "execution_count": null,
      "metadata": {
        "id": "SEF_sM1ryAF4"
      },
      "outputs": [],
      "source": []
    },
    {
      "cell_type": "code",
      "source": [
        "df = pd.read_csv('/kaggle/input/iris/Iris.csv')\n",
        "df.head()"
      ],
      "metadata": {
        "id": "hOXzLTV12ylP"
      },
      "execution_count": null,
      "outputs": []
    },
    {
      "cell_type": "code",
      "source": [
        "df = pd.read_csv('/kaggle/input/iris/Iris.csv', index_col='Id')\n",
        "df.tail()"
      ],
      "metadata": {
        "id": "f6AltFy03Tiw"
      },
      "execution_count": null,
      "outputs": []
    },
    {
      "cell_type": "code",
      "source": [
        "df.rename({'SepalLengthCm': 'sepal_length',\n",
        "           'SepalWidthCm': 'sepal_width',\n",
        "           'PetalLengthCm': 'petal_length',\n",
        "           'PetalWidthCm': 'petal_width',\n",
        "           'Species': 'species'\n",
        "          }, inplace=True,axis=1)\n",
        "df.sample(5)"
      ],
      "metadata": {
        "id": "ac53Qnjt3fUM"
      },
      "execution_count": null,
      "outputs": []
    },
    {
      "cell_type": "code",
      "source": [
        "x = df.groupby('species').median()\n",
        "x"
      ],
      "metadata": {
        "id": "FmltC59f3sIz"
      },
      "execution_count": null,
      "outputs": []
    },
    {
      "cell_type": "code",
      "source": [
        "Statistics of this dataset\n",
        "stats = df.describe()\n",
        "stats"
      ],
      "metadata": {
        "id": "GEeVzSvn30FA"
      },
      "execution_count": null,
      "outputs": []
    },
    {
      "cell_type": "code",
      "source": [
        "calculate range, and move columns 25%,50%,75%  and mean values into a dataframe\n",
        "stats.loc['range'] = stats.loc['max'] - stats.loc['min']\n",
        "new_df = stats.loc[['mean', 'range', '25%', '50%', '75%']]\n",
        "new_df.rename({'50%': 'median'}, inplace=True)\n",
        "new_df"
      ],
      "metadata": {
        "id": "soSAi3aj3-sM"
      },
      "execution_count": null,
      "outputs": []
    },
    {
      "cell_type": "code",
      "source": [
        "#Calculate mean and median or others using multiple functions at once - 2 methods\n",
        "\n",
        "df.groupby('species').agg(['mean', 'median'])  # passing a list of recognized strings\n",
        "df.groupby('species').agg([np.mean, np.median])"
      ],
      "metadata": {
        "id": "dmZgaXcO4DbW"
      },
      "execution_count": null,
      "outputs": []
    },
    {
      "cell_type": "code",
      "source": [
        "data = df.copy()\n",
        "data.head()"
      ],
      "metadata": {
        "id": "Sd1RKZUC4GW-"
      },
      "execution_count": null,
      "outputs": []
    },
    {
      "cell_type": "code",
      "source": [
        "from sklearn.model_selection import train_test_split\n",
        "\n",
        "target = 'species'\n",
        "X = data[['sepal_length', 'sepal_width', 'petal_length', 'petal_width']]\n",
        "y = data[target]\n",
        "X_train, X_test, y_train, y_test = train_test_split(X, y, test_size = 0.2, random_state = 11)\n",
        "# it shows 80% of data is split for training and 20% of the data goes to testing.\n",
        "print(X_train.shape)\n",
        "print(X_test.shape)"
      ],
      "metadata": {
        "id": "MnTIg0K606QY"
      },
      "execution_count": null,
      "outputs": []
    },
    {
      "cell_type": "code",
      "source": [
        "from sklearn.linear_model import LogisticRegression\n",
        "from sklearn import metrics\n",
        "lr = LogisticRegression()\n",
        "lr.fit(X_train, y_train)\n",
        "y_pred = lr.predict(X_test)\n",
        "print('Test Accuracy for Scikit-Learn model:', metrics.accuracy_score(y_test, y_pred)* 100,'%')"
      ],
      "metadata": {
        "id": "BnlVB9Cj7kA0"
      },
      "execution_count": null,
      "outputs": []
    },
    {
      "cell_type": "code",
      "source": [
        "from sklearn.metrics import classification_report\n",
        "print(classification_report(y_test, y_pred))"
      ],
      "metadata": {
        "id": "-JOSQo8K7pxL"
      },
      "execution_count": null,
      "outputs": []
    },
    {
      "cell_type": "code",
      "source": [],
      "metadata": {
        "id": "Z93QdKaH7sxm"
      },
      "execution_count": null,
      "outputs": []
    },
    {
      "cell_type": "code",
      "source": [
        "\n"
      ],
      "metadata": {
        "id": "4PQmJODX1AMd"
      },
      "execution_count": null,
      "outputs": []
    },
    {
      "cell_type": "code",
      "source": [],
      "metadata": {
        "id": "Pw4z2-wR1MF2"
      },
      "execution_count": null,
      "outputs": []
    },
    {
      "cell_type": "code",
      "source": [
        "\n"
      ],
      "metadata": {
        "id": "l2aaZNq31STU"
      },
      "execution_count": null,
      "outputs": []
    },
    {
      "cell_type": "code",
      "source": [],
      "metadata": {
        "id": "kHh1SRBx2PWl"
      },
      "execution_count": null,
      "outputs": []
    }
  ]
}