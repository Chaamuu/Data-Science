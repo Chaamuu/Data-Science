{
  "nbformat": 4,
  "nbformat_minor": 0,
  "metadata": {
    "colab": {
      "provenance": []
    },
    "kernelspec": {
      "name": "python3",
      "display_name": "Python 3"
    },
    "language_info": {
      "name": "python"
    }
  },
  "cells": [
    {
      "cell_type": "code",
      "execution_count": 2,
      "metadata": {
        "id": "SEF_sM1ryAF4"
      },
      "outputs": [],
      "source": [
        "from tensorflow.keras.datasets import cifar10\n",
        "from tensorflow.keras.utils import to_categorical\n",
        "\n",
        "# Load the CIFAR-10 dataset\n",
        "(x_train, y_train), (x_test, y_test) = cifar10.load_data()\n",
        "\n",
        "# Scale the pixel values to between 0 and 1\n",
        "x_train = x_train / 255.0\n",
        "x_test = x_test / 255.0\n",
        "\n",
        "# Convert the labels to one-hot encoding\n",
        "y_train = to_categorical(y_train)\n",
        "y_test = to_categorical(y_test)"
      ]
    },
    {
      "cell_type": "code",
      "source": [
        "from tensorflow.keras.models import Sequential\n",
        "from tensorflow.keras.layers import Dense, Flatten\n",
        "\n",
        "# Create a Sequential model\n",
        "model = Sequential()\n",
        "\n",
        "# Add a Flatten layer to flatten the input image\n",
        "model.add(Flatten(input_shape=(32, 32, 3)))\n",
        "\n",
        "# Add two dense layers with 200 units and 'relu' activation function\n",
        "model.add(Dense(200, activation='relu'))\n",
        "model.add(Dense(150, activation='relu'))\n",
        "\n",
        "# Add a softmax output layer with 10 units\n",
        "model.add(Dense(10, activation='softmax'))\n",
        "\n",
        "# Print the model summary\n",
        "model.summary()"
      ],
      "metadata": {
        "colab": {
          "base_uri": "https://localhost:8080/"
        },
        "id": "MnTIg0K606QY",
        "outputId": "694b977d-3aee-492d-c300-878d74139fcf"
      },
      "execution_count": 3,
      "outputs": [
        {
          "output_type": "stream",
          "name": "stdout",
          "text": [
            "Model: \"sequential\"\n",
            "_________________________________________________________________\n",
            " Layer (type)                Output Shape              Param #   \n",
            "=================================================================\n",
            " flatten (Flatten)           (None, 3072)              0         \n",
            "                                                                 \n",
            " dense (Dense)               (None, 200)               614600    \n",
            "                                                                 \n",
            " dense_1 (Dense)             (None, 150)               30150     \n",
            "                                                                 \n",
            " dense_2 (Dense)             (None, 10)                1510      \n",
            "                                                                 \n",
            "=================================================================\n",
            "Total params: 646260 (2.47 MB)\n",
            "Trainable params: 646260 (2.47 MB)\n",
            "Non-trainable params: 0 (0.00 Byte)\n",
            "_________________________________________________________________\n"
          ]
        }
      ]
    },
    {
      "cell_type": "code",
      "source": [
        "from tensorflow.keras.layers import Input, Dense, Flatten\n",
        "from tensorflow.keras.models import Model\n",
        "\n",
        "# Define the input layer\n",
        "inputs = Input(shape=(32, 32, 3))\n",
        "\n",
        "# Flatten the input image\n",
        "x = Flatten()(inputs)\n",
        "\n",
        "# Add two dense layers with 200 units and 'relu' activation function\n",
        "x = Dense(200, activation='relu')(x)\n",
        "x = Dense(150, activation='relu')(x)\n",
        "\n",
        "# Add a softmax output layer with 10 units\n",
        "outputs = Dense(10, activation='softmax')(x)\n",
        "\n",
        "# Create the model\n",
        "model = Model(inputs=inputs, outputs=outputs)\n",
        "\n",
        "# Print the model summary\n",
        "model.summary()"
      ],
      "metadata": {
        "colab": {
          "base_uri": "https://localhost:8080/"
        },
        "id": "4PQmJODX1AMd",
        "outputId": "ebd9a987-939d-4bfd-84c6-67f9d77e47b2"
      },
      "execution_count": 4,
      "outputs": [
        {
          "output_type": "stream",
          "name": "stdout",
          "text": [
            "Model: \"model\"\n",
            "_________________________________________________________________\n",
            " Layer (type)                Output Shape              Param #   \n",
            "=================================================================\n",
            " input_1 (InputLayer)        [(None, 32, 32, 3)]       0         \n",
            "                                                                 \n",
            " flatten_1 (Flatten)         (None, 3072)              0         \n",
            "                                                                 \n",
            " dense_3 (Dense)             (None, 200)               614600    \n",
            "                                                                 \n",
            " dense_4 (Dense)             (None, 150)               30150     \n",
            "                                                                 \n",
            " dense_5 (Dense)             (None, 10)                1510      \n",
            "                                                                 \n",
            "=================================================================\n",
            "Total params: 646260 (2.47 MB)\n",
            "Trainable params: 646260 (2.47 MB)\n",
            "Non-trainable params: 0 (0.00 Byte)\n",
            "_________________________________________________________________\n"
          ]
        }
      ]
    },
    {
      "cell_type": "code",
      "source": [
        "from tensorflow.keras import optimizers\n",
        "\n",
        "opt = optimizers.Adam(learning_rate=0.0005)\n",
        "model.compile(loss='categorical_crossentropy', optimizer=opt, metrics=['accuracy'])"
      ],
      "metadata": {
        "id": "Pw4z2-wR1MF2"
      },
      "execution_count": 5,
      "outputs": []
    },
    {
      "cell_type": "code",
      "source": [
        "model.fit(x_train, y_train, batch_size = 32, epochs = 10, shuffle = True)\n"
      ],
      "metadata": {
        "colab": {
          "base_uri": "https://localhost:8080/"
        },
        "id": "l2aaZNq31STU",
        "outputId": "9eb29f51-df5d-47bd-8a28-fb4d77146f28"
      },
      "execution_count": 6,
      "outputs": [
        {
          "output_type": "stream",
          "name": "stdout",
          "text": [
            "Epoch 1/10\n",
            "1563/1563 [==============================] - 16s 10ms/step - loss: 1.8437 - accuracy: 0.3370\n",
            "Epoch 2/10\n",
            "1563/1563 [==============================] - 16s 10ms/step - loss: 1.6673 - accuracy: 0.4023\n",
            "Epoch 3/10\n",
            "1563/1563 [==============================] - 15s 10ms/step - loss: 1.5884 - accuracy: 0.4353\n",
            "Epoch 4/10\n",
            "1563/1563 [==============================] - 15s 10ms/step - loss: 1.5296 - accuracy: 0.4543\n",
            "Epoch 5/10\n",
            "1563/1563 [==============================] - 15s 10ms/step - loss: 1.4976 - accuracy: 0.4660\n",
            "Epoch 6/10\n",
            "1563/1563 [==============================] - 15s 10ms/step - loss: 1.4593 - accuracy: 0.4816\n",
            "Epoch 7/10\n",
            "1563/1563 [==============================] - 16s 10ms/step - loss: 1.4316 - accuracy: 0.4889\n",
            "Epoch 8/10\n",
            "1563/1563 [==============================] - 15s 10ms/step - loss: 1.4045 - accuracy: 0.5000\n",
            "Epoch 9/10\n",
            "1563/1563 [==============================] - 15s 10ms/step - loss: 1.3803 - accuracy: 0.5096\n",
            "Epoch 10/10\n",
            "1563/1563 [==============================] - 15s 10ms/step - loss: 1.3586 - accuracy: 0.5165\n"
          ]
        },
        {
          "output_type": "execute_result",
          "data": {
            "text/plain": [
              "<keras.src.callbacks.History at 0x795c335a4310>"
            ]
          },
          "metadata": {},
          "execution_count": 6
        }
      ]
    },
    {
      "cell_type": "code",
      "source": [
        "loss, accuracy = model.evaluate(x_test, y_test)\n",
        "print('Test loss:', loss)\n",
        "print('Test accuracy:', accuracy)"
      ],
      "metadata": {
        "colab": {
          "base_uri": "https://localhost:8080/"
        },
        "id": "kHh1SRBx2PWl",
        "outputId": "4d8f6185-317f-4ab1-dd3f-cdb0f288b9fa"
      },
      "execution_count": 7,
      "outputs": [
        {
          "output_type": "stream",
          "name": "stdout",
          "text": [
            "313/313 [==============================] - 1s 3ms/step - loss: 1.4199 - accuracy: 0.4948\n",
            "Test loss: 1.4199213981628418\n",
            "Test accuracy: 0.49480000138282776\n"
          ]
        }
      ]
    }
  ]
}